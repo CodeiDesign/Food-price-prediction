{
  "nbformat": 4,
  "nbformat_minor": 0,
  "metadata": {
    "kernelspec": {
      "display_name": "Python 3",
      "language": "python",
      "name": "python3"
    },
    "language_info": {
      "codemirror_mode": {
        "name": "ipython",
        "version": 3
      },
      "file_extension": ".py",
      "mimetype": "text/x-python",
      "name": "python",
      "nbconvert_exporter": "python",
      "pygments_lexer": "ipython3",
      "version": "3.7.4"
    },
    "colab": {
      "name": "food-price-predict.ipynb",
      "provenance": [],
      "include_colab_link": true
    }
  },
  "cells": [
    {
      "cell_type": "markdown",
      "metadata": {
        "id": "view-in-github",
        "colab_type": "text"
      },
      "source": [
        "<a href=\"https://colab.research.google.com/github/buabaj/Food-price-prediction/blob/master/food_price_predict.ipynb\" target=\"_parent\"><img src=\"https://colab.research.google.com/assets/colab-badge.svg\" alt=\"Open In Colab\"/></a>"
      ]
    },
    {
      "cell_type": "code",
      "metadata": {
        "id": "xGlD7BDIyQ8s",
        "colab_type": "code",
        "colab": {}
      },
      "source": [
        "#import necessary libraries and modules\n",
        "import pandas as pd\n",
        "import numpy as np\n",
        "import matplotlib.pyplot as plt\n",
        "from sklearn.linear_model import LinearRegression"
      ],
      "execution_count": 32,
      "outputs": []
    },
    {
      "cell_type": "code",
      "metadata": {
        "id": "g3drVOAVyQ80",
        "colab_type": "code",
        "colab": {
          "base_uri": "https://localhost:8080/",
          "height": 355
        },
        "outputId": "27ab9d8c-b25c-4d91-acf6-48a48d810c0e"
      },
      "source": [
        "#read in the dataset and convert it to a pandas dataframe\n",
        "df = pd.read_csv(\"PotatoPrice.csv\") \n",
        "df = pd.DataFrame(df)\n",
        "df"
      ],
      "execution_count": 33,
      "outputs": [
        {
          "output_type": "execute_result",
          "data": {
            "text/html": [
              "<div>\n",
              "<style scoped>\n",
              "    .dataframe tbody tr th:only-of-type {\n",
              "        vertical-align: middle;\n",
              "    }\n",
              "\n",
              "    .dataframe tbody tr th {\n",
              "        vertical-align: top;\n",
              "    }\n",
              "\n",
              "    .dataframe thead th {\n",
              "        text-align: right;\n",
              "    }\n",
              "</style>\n",
              "<table border=\"1\" class=\"dataframe\">\n",
              "  <thead>\n",
              "    <tr style=\"text-align: right;\">\n",
              "      <th></th>\n",
              "      <th>potato_kg</th>\n",
              "      <th>price</th>\n",
              "    </tr>\n",
              "  </thead>\n",
              "  <tbody>\n",
              "    <tr>\n",
              "      <th>0</th>\n",
              "      <td>1</td>\n",
              "      <td>10</td>\n",
              "    </tr>\n",
              "    <tr>\n",
              "      <th>1</th>\n",
              "      <td>2</td>\n",
              "      <td>20</td>\n",
              "    </tr>\n",
              "    <tr>\n",
              "      <th>2</th>\n",
              "      <td>3</td>\n",
              "      <td>25</td>\n",
              "    </tr>\n",
              "    <tr>\n",
              "      <th>3</th>\n",
              "      <td>4</td>\n",
              "      <td>40</td>\n",
              "    </tr>\n",
              "    <tr>\n",
              "      <th>4</th>\n",
              "      <td>5</td>\n",
              "      <td>55</td>\n",
              "    </tr>\n",
              "    <tr>\n",
              "      <th>5</th>\n",
              "      <td>6</td>\n",
              "      <td>75</td>\n",
              "    </tr>\n",
              "    <tr>\n",
              "      <th>6</th>\n",
              "      <td>7</td>\n",
              "      <td>90</td>\n",
              "    </tr>\n",
              "    <tr>\n",
              "      <th>7</th>\n",
              "      <td>8</td>\n",
              "      <td>100</td>\n",
              "    </tr>\n",
              "    <tr>\n",
              "      <th>8</th>\n",
              "      <td>9</td>\n",
              "      <td>115</td>\n",
              "    </tr>\n",
              "    <tr>\n",
              "      <th>9</th>\n",
              "      <td>10</td>\n",
              "      <td>120</td>\n",
              "    </tr>\n",
              "  </tbody>\n",
              "</table>\n",
              "</div>"
            ],
            "text/plain": [
              "   potato_kg  price\n",
              "0          1     10\n",
              "1          2     20\n",
              "2          3     25\n",
              "3          4     40\n",
              "4          5     55\n",
              "5          6     75\n",
              "6          7     90\n",
              "7          8    100\n",
              "8          9    115\n",
              "9         10    120"
            ]
          },
          "metadata": {
            "tags": []
          },
          "execution_count": 33
        }
      ]
    },
    {
      "cell_type": "code",
      "metadata": {
        "id": "5YxDbKtOzUPn",
        "colab_type": "code",
        "colab": {
          "base_uri": "https://localhost:8080/",
          "height": 1000
        },
        "outputId": "2e163ed6-8e19-455e-a9ac-2d332dba10d2"
      },
      "source": [
        "#exploring our data to understand the data and its features\n",
        "!pip install xplore\n",
        "from xplore.data import xplore\n",
        "xplore(df)"
      ],
      "execution_count": 34,
      "outputs": [
        {
          "output_type": "stream",
          "text": [
            "Requirement already satisfied: xplore in /usr/local/lib/python3.6/dist-packages (0.0.1)\n",
            "Requirement already satisfied: pandas in /usr/local/lib/python3.6/dist-packages (from xplore) (1.0.5)\n",
            "Requirement already satisfied: pandas-profiling in /usr/local/lib/python3.6/dist-packages (from xplore) (1.4.1)\n",
            "Requirement already satisfied: python-dateutil>=2.6.1 in /usr/local/lib/python3.6/dist-packages (from pandas->xplore) (2.8.1)\n",
            "Requirement already satisfied: numpy>=1.13.3 in /usr/local/lib/python3.6/dist-packages (from pandas->xplore) (1.18.5)\n",
            "Requirement already satisfied: pytz>=2017.2 in /usr/local/lib/python3.6/dist-packages (from pandas->xplore) (2018.9)\n",
            "Requirement already satisfied: jinja2>=2.8 in /usr/local/lib/python3.6/dist-packages (from pandas-profiling->xplore) (2.11.2)\n",
            "Requirement already satisfied: six>=1.9 in /usr/local/lib/python3.6/dist-packages (from pandas-profiling->xplore) (1.15.0)\n",
            "Requirement already satisfied: matplotlib>=1.4 in /usr/local/lib/python3.6/dist-packages (from pandas-profiling->xplore) (3.2.2)\n",
            "Requirement already satisfied: MarkupSafe>=0.23 in /usr/local/lib/python3.6/dist-packages (from jinja2>=2.8->pandas-profiling->xplore) (1.1.1)\n",
            "Requirement already satisfied: kiwisolver>=1.0.1 in /usr/local/lib/python3.6/dist-packages (from matplotlib>=1.4->pandas-profiling->xplore) (1.2.0)\n",
            "Requirement already satisfied: pyparsing!=2.0.4,!=2.1.2,!=2.1.6,>=2.0.1 in /usr/local/lib/python3.6/dist-packages (from matplotlib>=1.4->pandas-profiling->xplore) (2.4.7)\n",
            "Requirement already satisfied: cycler>=0.10 in /usr/local/lib/python3.6/dist-packages (from matplotlib>=1.4->pandas-profiling->xplore) (0.10.0)\n",
            "------------------------------------\n",
            "The fist 5 entries of your dataset are:\n",
            "\n",
            "   potato_kg  price\n",
            "0          1     10\n",
            "1          2     20\n",
            "2          3     25\n",
            "3          4     40\n",
            "4          5     55\n",
            "\n",
            "\n",
            "------------------------------------\n",
            "The last 5 entries of your dataset are:\n",
            "\n",
            "   potato_kg  price\n",
            "5          6     75\n",
            "6          7     90\n",
            "7          8    100\n",
            "8          9    115\n",
            "9         10    120\n",
            "\n",
            "\n",
            "------------------------------------\n",
            "Stats on your dataset:\n",
            "\n",
            "<bound method NDFrame.describe of    potato_kg  price\n",
            "0          1     10\n",
            "1          2     20\n",
            "2          3     25\n",
            "3          4     40\n",
            "4          5     55\n",
            "5          6     75\n",
            "6          7     90\n",
            "7          8    100\n",
            "8          9    115\n",
            "9         10    120>\n",
            "\n",
            "\n",
            "------------------------------------\n",
            "The Value types of each column are:\n",
            "\n",
            "potato_kg    int64\n",
            "price        int64\n",
            "dtype: object\n",
            "\n",
            "\n",
            "------------------------------------\n",
            "Info on your Dataset:\n",
            "\n",
            "<bound method DataFrame.info of    potato_kg  price\n",
            "0          1     10\n",
            "1          2     20\n",
            "2          3     25\n",
            "3          4     40\n",
            "4          5     55\n",
            "5          6     75\n",
            "6          7     90\n",
            "7          8    100\n",
            "8          9    115\n",
            "9         10    120>\n",
            "\n",
            "\n",
            "------------------------------------\n",
            "The shape of your dataset in the order of rows and columns is:\n",
            "\n",
            "(10, 2)\n",
            "\n",
            "\n",
            "------------------------------------\n",
            "The features of your dataset are:\n",
            "\n",
            "Index(['potato_kg', 'price'], dtype='object')\n",
            "\n",
            "\n",
            "------------------------------------\n",
            "The total number of null values from individual columns of your data set are:\n",
            "\n",
            "potato_kg    0\n",
            "price        0\n",
            "dtype: int64\n",
            "\n",
            "\n",
            "------------------------------------\n",
            "The number of rows in your dataset are:\n",
            "\n",
            "10\n",
            "\n",
            "\n",
            "------------------------------------\n",
            "The values in your dataset are:\n",
            "\n",
            "[[  1  10]\n",
            " [  2  20]\n",
            " [  3  25]\n",
            " [  4  40]\n",
            " [  5  55]\n",
            " [  6  75]\n",
            " [  7  90]\n",
            " [  8 100]\n",
            " [  9 115]\n",
            " [ 10 120]]\n",
            "\n",
            "\n",
            "------------------------------------\n",
            "\n",
            "\n",
            "Do you want to generate a detailed report on the exploration of your dataset?\n",
            "[y/n]: n\n",
            "Process Completed\n"
          ],
          "name": "stdout"
        },
        {
          "output_type": "execute_result",
          "data": {
            "text/plain": [
              "<xplore.data.xplore at 0x7fa0b955db38>"
            ]
          },
          "metadata": {
            "tags": []
          },
          "execution_count": 34
        }
      ]
    },
    {
      "cell_type": "code",
      "metadata": {
        "scrolled": true,
        "id": "gNFTi67WyQ89",
        "colab_type": "code",
        "colab": {
          "base_uri": "https://localhost:8080/",
          "height": 297
        },
        "outputId": "5b46af08-527c-4956-96fa-4402c29d5a6e"
      },
      "source": [
        "#visualizing our data to understand the correlation\n",
        "%matplotlib inline\n",
        "plt.xlabel('Potato in kilogram(kg)')\n",
        "plt.ylabel('price')\n",
        "plt.scatter(df.potato_kg, df.price)"
      ],
      "execution_count": 35,
      "outputs": [
        {
          "output_type": "execute_result",
          "data": {
            "text/plain": [
              "<matplotlib.collections.PathCollection at 0x7fa0b9fed668>"
            ]
          },
          "metadata": {
            "tags": []
          },
          "execution_count": 35
        },
        {
          "output_type": "display_data",
          "data": {
            "image/png": "[encoded data removed]",
            "text/plain": [
              "<Figure size 432x288 with 1 Axes>"
            ]
          },
          "metadata": {
            "tags": [],
            "needs_background": "light"
          }
        }
      ]
    },
    {
      "cell_type": "code",
      "metadata": {
        "id": "sEFnCJpcyQ9D",
        "colab_type": "code",
        "colab": {}
      },
      "source": [
        "#separating our data into dependent and independent variables\n",
        "X = df[['potato_kg']] \n"
      ],
      "execution_count": 36,
      "outputs": []
    },
    {
      "cell_type": "code",
      "metadata": {
        "id": "srL68Y22yQ9I",
        "colab_type": "code",
        "colab": {}
      },
      "source": [
        "y = df['price']"
      ],
      "execution_count": 37,
      "outputs": []
    },
    {
      "cell_type": "code",
      "metadata": {
        "id": "lIdvRqodyQ9R",
        "colab_type": "code",
        "colab": {}
      },
      "source": [
        "#splitting our data into training and testing data\n",
        "from sklearn.model_selection import train_test_split\n",
        "X_train, X_test, y_train, y_test = train_test_split(X,y,test_size=0.2)\n"
      ],
      "execution_count": 38,
      "outputs": []
    },
    {
      "cell_type": "code",
      "metadata": {
        "id": "fH7tfFSqyQ9b",
        "colab_type": "code",
        "colab": {
          "base_uri": "https://localhost:8080/",
          "height": 294
        },
        "outputId": "2c1cbe39-fa34-40cf-dff5-9cbb0b9d2590"
      },
      "source": [
        "X_train"
      ],
      "execution_count": 39,
      "outputs": [
        {
          "output_type": "execute_result",
          "data": {
            "text/html": [
              "<div>\n",
              "<style scoped>\n",
              "    .dataframe tbody tr th:only-of-type {\n",
              "        vertical-align: middle;\n",
              "    }\n",
              "\n",
              "    .dataframe tbody tr th {\n",
              "        vertical-align: top;\n",
              "    }\n",
              "\n",
              "    .dataframe thead th {\n",
              "        text-align: right;\n",
              "    }\n",
              "</style>\n",
              "<table border=\"1\" class=\"dataframe\">\n",
              "  <thead>\n",
              "    <tr style=\"text-align: right;\">\n",
              "      <th></th>\n",
              "      <th>potato_kg</th>\n",
              "    </tr>\n",
              "  </thead>\n",
              "  <tbody>\n",
              "    <tr>\n",
              "      <th>2</th>\n",
              "      <td>3</td>\n",
              "    </tr>\n",
              "    <tr>\n",
              "      <th>7</th>\n",
              "      <td>8</td>\n",
              "    </tr>\n",
              "    <tr>\n",
              "      <th>3</th>\n",
              "      <td>4</td>\n",
              "    </tr>\n",
              "    <tr>\n",
              "      <th>0</th>\n",
              "      <td>1</td>\n",
              "    </tr>\n",
              "    <tr>\n",
              "      <th>5</th>\n",
              "      <td>6</td>\n",
              "    </tr>\n",
              "    <tr>\n",
              "      <th>4</th>\n",
              "      <td>5</td>\n",
              "    </tr>\n",
              "    <tr>\n",
              "      <th>1</th>\n",
              "      <td>2</td>\n",
              "    </tr>\n",
              "    <tr>\n",
              "      <th>8</th>\n",
              "      <td>9</td>\n",
              "    </tr>\n",
              "  </tbody>\n",
              "</table>\n",
              "</div>"
            ],
            "text/plain": [
              "   potato_kg\n",
              "2          3\n",
              "7          8\n",
              "3          4\n",
              "0          1\n",
              "5          6\n",
              "4          5\n",
              "1          2\n",
              "8          9"
            ]
          },
          "metadata": {
            "tags": []
          },
          "execution_count": 39
        }
      ]
    },
    {
      "cell_type": "code",
      "metadata": {
        "id": "csR4nWS1yQ9f",
        "colab_type": "code",
        "colab": {
          "base_uri": "https://localhost:8080/",
          "height": 110
        },
        "outputId": "a0417c9c-9b4f-4002-d28d-d3c393dac49b"
      },
      "source": [
        "X_test"
      ],
      "execution_count": 40,
      "outputs": [
        {
          "output_type": "execute_result",
          "data": {
            "text/html": [
              "<div>\n",
              "<style scoped>\n",
              "    .dataframe tbody tr th:only-of-type {\n",
              "        vertical-align: middle;\n",
              "    }\n",
              "\n",
              "    .dataframe tbody tr th {\n",
              "        vertical-align: top;\n",
              "    }\n",
              "\n",
              "    .dataframe thead th {\n",
              "        text-align: right;\n",
              "    }\n",
              "</style>\n",
              "<table border=\"1\" class=\"dataframe\">\n",
              "  <thead>\n",
              "    <tr style=\"text-align: right;\">\n",
              "      <th></th>\n",
              "      <th>potato_kg</th>\n",
              "    </tr>\n",
              "  </thead>\n",
              "  <tbody>\n",
              "    <tr>\n",
              "      <th>6</th>\n",
              "      <td>7</td>\n",
              "    </tr>\n",
              "    <tr>\n",
              "      <th>9</th>\n",
              "      <td>10</td>\n",
              "    </tr>\n",
              "  </tbody>\n",
              "</table>\n",
              "</div>"
            ],
            "text/plain": [
              "   potato_kg\n",
              "6          7\n",
              "9         10"
            ]
          },
          "metadata": {
            "tags": []
          },
          "execution_count": 40
        }
      ]
    },
    {
      "cell_type": "code",
      "metadata": {
        "id": "aAQolWJ7yQ9p",
        "colab_type": "code",
        "colab": {
          "base_uri": "https://localhost:8080/",
          "height": 173
        },
        "outputId": "218a52e7-0230-412a-d2a7-b4caa1c41ca9"
      },
      "source": [
        "y_train"
      ],
      "execution_count": 41,
      "outputs": [
        {
          "output_type": "execute_result",
          "data": {
            "text/plain": [
              "2     25\n",
              "7    100\n",
              "3     40\n",
              "0     10\n",
              "5     75\n",
              "4     55\n",
              "1     20\n",
              "8    115\n",
              "Name: price, dtype: int64"
            ]
          },
          "metadata": {
            "tags": []
          },
          "execution_count": 41
        }
      ]
    },
    {
      "cell_type": "code",
      "metadata": {
        "id": "PWWRc5TzyQ9v",
        "colab_type": "code",
        "colab": {
          "base_uri": "https://localhost:8080/",
          "height": 69
        },
        "outputId": "b300e40e-bec6-4623-d5fc-0de4eedfc8f3"
      },
      "source": [
        "y_test"
      ],
      "execution_count": 42,
      "outputs": [
        {
          "output_type": "execute_result",
          "data": {
            "text/plain": [
              "6     90\n",
              "9    120\n",
              "Name: price, dtype: int64"
            ]
          },
          "metadata": {
            "tags": []
          },
          "execution_count": 42
        }
      ]
    },
    {
      "cell_type": "code",
      "metadata": {
        "id": "uHK2BhPWyQ92",
        "colab_type": "code",
        "colab": {
          "base_uri": "https://localhost:8080/",
          "height": 35
        },
        "outputId": "27d255c8-41a0-42b5-9597-7a89bcf6d0fc"
      },
      "source": [
        "#training our model using the linear regression algorithm\n",
        "LR = LinearRegression() \n",
        "LR.fit(X_train, y_train)"
      ],
      "execution_count": 43,
      "outputs": [
        {
          "output_type": "execute_result",
          "data": {
            "text/plain": [
              "LinearRegression(copy_X=True, fit_intercept=True, n_jobs=None, normalize=False)"
            ]
          },
          "metadata": {
            "tags": []
          },
          "execution_count": 43
        }
      ]
    },
    {
      "cell_type": "code",
      "metadata": {
        "id": "Y5AqoRcxyQ99",
        "colab_type": "code",
        "colab": {
          "base_uri": "https://localhost:8080/",
          "height": 35
        },
        "outputId": "2b787918-cf83-444c-d6d0-9772e67de34b"
      },
      "source": [
        "#predicting values of test data\n",
        "LR.predict(X_test)"
      ],
      "execution_count": 44,
      "outputs": [
        {
          "output_type": "execute_result",
          "data": {
            "text/plain": [
              "array([ 85.60810811, 126.41891892])"
            ]
          },
          "metadata": {
            "tags": []
          },
          "execution_count": 44
        }
      ]
    },
    {
      "cell_type": "code",
      "metadata": {
        "id": "HMq7oVsTyQ-H",
        "colab_type": "code",
        "colab": {
          "base_uri": "https://localhost:8080/",
          "height": 35
        },
        "outputId": "fbb8851d-963a-49a7-f8bc-ac2cba152bba"
      },
      "source": [
        "#calculating the accuracy of our model\n",
        "print(LR.score(X_test, y_test) * 100)"
      ],
      "execution_count": 45,
      "outputs": [
        {
          "output_type": "stream",
          "text": [
            "86.55750344939531\n"
          ],
          "name": "stdout"
        }
      ]
    },
    {
      "cell_type": "code",
      "metadata": {
        "id": "0ylkIQc8yQ-M",
        "colab_type": "code",
        "colab": {
          "base_uri": "https://localhost:8080/",
          "height": 35
        },
        "outputId": "6870bfc1-b52f-41ea-daed-eef2053db3fb"
      },
      "source": [
        "#manually predicting potato price by inputing potato kg\n",
        "LR.predict([[5]]) "
      ],
      "execution_count": 46,
      "outputs": [
        {
          "output_type": "execute_result",
          "data": {
            "text/plain": [
              "array([58.4009009])"
            ]
          },
          "metadata": {
            "tags": []
          },
          "execution_count": 46
        }
      ]
    },
    {
      "cell_type": "markdown",
      "metadata": {
        "id": "AJBWdm0iyQ-R",
        "colab_type": "text"
      },
      "source": [
        "# Take user input to predict potato price\n",
        "\n",
        "\n",
        "\n"
      ]
    },
    {
      "cell_type": "code",
      "metadata": {
        "id": "R2OejQrJ7rP1",
        "colab_type": "code",
        "colab": {
          "base_uri": "https://localhost:8080/",
          "height": 52
        },
        "outputId": "39edc37f-a395-499b-a2eb-9df0395f3586"
      },
      "source": [
        "#building a simple I/O module to predict potato prices\n",
        "kg = input('Enter the weight of potatoes in kg: ')\n",
        "\n",
        "array = np.array(kg) #covert user input to 1D array\n",
        "flt = array.astype(np.float) #converting the 1D array to 1D float\n",
        "arr_2D= ([[flt]]) #convert the float value to a 2D array\n",
        "\n",
        "predict = LR.predict(arr_2D) #predicting the price of potatoes the user gave\n",
        "\n",
        "price = np.array(predict) #converting the predicted price back to 1D array\n",
        "price = price.item() #singularizing the predicted price\n",
        "\n",
        "print('The price of ',kg,'kg worth of potatoes will be: ',price)"
      ],
      "execution_count": 51,
      "outputs": [
        {
          "output_type": "stream",
          "text": [
            "Enter the weight of potatoes in kg: 10\n",
            "The price of  10 kg worth of potatoes will be:  126.41891891891893\n"
          ],
          "name": "stdout"
        }
      ]
    },
    {
      "cell_type": "code",
      "metadata": {
        "id": "TzWkC-fW82SL",
        "colab_type": "code",
        "colab": {}
      },
      "source": [
        ""
      ],
      "execution_count": null,
      "outputs": []
    }
  ]
}